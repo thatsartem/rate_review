{
 "cells": [
  {
   "cell_type": "code",
   "execution_count": 25,
   "id": "a77d16a7",
   "metadata": {},
   "outputs": [],
   "source": [
    "import pandas as pd\n",
    "import os\n",
    "import nltk\n",
    "from nltk.tokenize import word_tokenize\n",
    "import re\n",
    "from nltk.stem import WordNetLemmatizer\n",
    "from nltk.corpus import stopwords\n",
    "from bs4 import BeautifulSoup\n",
    "from gensim.models import Word2Vec, Phrases\n",
    "import numpy as np\n",
    "import torch\n",
    "from torch import optim\n",
    "import torch.nn as nn\n",
    "import torch.nn.functional as F\n",
    "import gensim"
   ]
  },
  {
   "cell_type": "code",
   "execution_count": 3,
   "id": "7d1b186a",
   "metadata": {},
   "outputs": [],
   "source": [
    "folder = './aclImdb'\n",
    "labels = {'pos': 1, 'neg': 0}"
   ]
  },
  {
   "cell_type": "code",
   "execution_count": 4,
   "id": "e2b649a5",
   "metadata": {},
   "outputs": [],
   "source": [
    "df_train = pd.DataFrame(columns = ['review', 'sentiment', 'rating'])\n",
    "df_test = pd.DataFrame(columns = ['review', 'sentiment', 'rating'])\n",
    "\n",
    "\n",
    "f = 'train'   \n",
    "for l in ('pos', 'neg'):\n",
    "    path = os.path.join(folder, f, l)\n",
    "    for file in os.listdir(path) :\n",
    "        with open(os.path.join(path, file),'r', encoding='utf-8') as infile:\n",
    "            txt = infile.read()\n",
    "        df_train.loc[df_train.shape[0],:] = [txt, labels[l],file[:-4].split('_')[1]]\n",
    "\n",
    "f = 'test'   \n",
    "for l in ('pos', 'neg'):\n",
    "    path = os.path.join(folder, f, l)\n",
    "    for file in os.listdir(path) :\n",
    "        with open(os.path.join(path, file),'r', encoding='utf-8') as infile:\n",
    "            txt = infile.read()\n",
    "        df_test.loc[df_test.shape[0],:] = [txt, labels[l],file[:-4].split('_')[1]]\n"
   ]
  },
  {
   "cell_type": "code",
   "execution_count": 5,
   "id": "58d4c5b5",
   "metadata": {},
   "outputs": [
    {
     "data": {
      "text/html": [
       "<div>\n",
       "<style scoped>\n",
       "    .dataframe tbody tr th:only-of-type {\n",
       "        vertical-align: middle;\n",
       "    }\n",
       "\n",
       "    .dataframe tbody tr th {\n",
       "        vertical-align: top;\n",
       "    }\n",
       "\n",
       "    .dataframe thead th {\n",
       "        text-align: right;\n",
       "    }\n",
       "</style>\n",
       "<table border=\"1\" class=\"dataframe\">\n",
       "  <thead>\n",
       "    <tr style=\"text-align: right;\">\n",
       "      <th></th>\n",
       "      <th>review</th>\n",
       "      <th>sentiment</th>\n",
       "      <th>rating</th>\n",
       "    </tr>\n",
       "  </thead>\n",
       "  <tbody>\n",
       "    <tr>\n",
       "      <th>0</th>\n",
       "      <td>Based on an actual story, John Boorman shows t...</td>\n",
       "      <td>1</td>\n",
       "      <td>9</td>\n",
       "    </tr>\n",
       "    <tr>\n",
       "      <th>1</th>\n",
       "      <td>This is a gem. As a Film Four production - the...</td>\n",
       "      <td>1</td>\n",
       "      <td>9</td>\n",
       "    </tr>\n",
       "    <tr>\n",
       "      <th>2</th>\n",
       "      <td>I really like this show. It has drama, romance...</td>\n",
       "      <td>1</td>\n",
       "      <td>9</td>\n",
       "    </tr>\n",
       "    <tr>\n",
       "      <th>3</th>\n",
       "      <td>This is the best 3-D experience Disney has at ...</td>\n",
       "      <td>1</td>\n",
       "      <td>10</td>\n",
       "    </tr>\n",
       "    <tr>\n",
       "      <th>4</th>\n",
       "      <td>Of the Korean movies I've seen, only three had...</td>\n",
       "      <td>1</td>\n",
       "      <td>10</td>\n",
       "    </tr>\n",
       "  </tbody>\n",
       "</table>\n",
       "</div>"
      ],
      "text/plain": [
       "                                              review sentiment rating\n",
       "0  Based on an actual story, John Boorman shows t...         1      9\n",
       "1  This is a gem. As a Film Four production - the...         1      9\n",
       "2  I really like this show. It has drama, romance...         1      9\n",
       "3  This is the best 3-D experience Disney has at ...         1     10\n",
       "4  Of the Korean movies I've seen, only three had...         1     10"
      ]
     },
     "execution_count": 5,
     "metadata": {},
     "output_type": "execute_result"
    }
   ],
   "source": [
    "df_test.head()"
   ]
  },
  {
   "cell_type": "code",
   "execution_count": 6,
   "id": "fe97bc27",
   "metadata": {},
   "outputs": [
    {
     "data": {
      "text/html": [
       "<div>\n",
       "<style scoped>\n",
       "    .dataframe tbody tr th:only-of-type {\n",
       "        vertical-align: middle;\n",
       "    }\n",
       "\n",
       "    .dataframe tbody tr th {\n",
       "        vertical-align: top;\n",
       "    }\n",
       "\n",
       "    .dataframe thead th {\n",
       "        text-align: right;\n",
       "    }\n",
       "</style>\n",
       "<table border=\"1\" class=\"dataframe\">\n",
       "  <thead>\n",
       "    <tr style=\"text-align: right;\">\n",
       "      <th></th>\n",
       "      <th>review</th>\n",
       "      <th>sentiment</th>\n",
       "      <th>rating</th>\n",
       "    </tr>\n",
       "  </thead>\n",
       "  <tbody>\n",
       "    <tr>\n",
       "      <th>0</th>\n",
       "      <td>For a movie that gets no respect there sure ar...</td>\n",
       "      <td>1</td>\n",
       "      <td>9</td>\n",
       "    </tr>\n",
       "    <tr>\n",
       "      <th>1</th>\n",
       "      <td>Bizarre horror movie filled with famous faces ...</td>\n",
       "      <td>1</td>\n",
       "      <td>8</td>\n",
       "    </tr>\n",
       "    <tr>\n",
       "      <th>2</th>\n",
       "      <td>A solid, if unremarkable film. Matthau, as Ein...</td>\n",
       "      <td>1</td>\n",
       "      <td>7</td>\n",
       "    </tr>\n",
       "    <tr>\n",
       "      <th>3</th>\n",
       "      <td>It's a strange feeling to sit alone in a theat...</td>\n",
       "      <td>1</td>\n",
       "      <td>8</td>\n",
       "    </tr>\n",
       "    <tr>\n",
       "      <th>4</th>\n",
       "      <td>You probably all already know this by now, but...</td>\n",
       "      <td>1</td>\n",
       "      <td>10</td>\n",
       "    </tr>\n",
       "  </tbody>\n",
       "</table>\n",
       "</div>"
      ],
      "text/plain": [
       "                                              review sentiment rating\n",
       "0  For a movie that gets no respect there sure ar...         1      9\n",
       "1  Bizarre horror movie filled with famous faces ...         1      8\n",
       "2  A solid, if unremarkable film. Matthau, as Ein...         1      7\n",
       "3  It's a strange feeling to sit alone in a theat...         1      8\n",
       "4  You probably all already know this by now, but...         1     10"
      ]
     },
     "execution_count": 6,
     "metadata": {},
     "output_type": "execute_result"
    }
   ],
   "source": [
    "df_train.head()"
   ]
  },
  {
   "cell_type": "code",
   "execution_count": 81,
   "id": "371d3b9f",
   "metadata": {},
   "outputs": [
    {
     "name": "stderr",
     "output_type": "stream",
     "text": [
      "[nltk_data] Downloading package stopwords to /Users/artem/nltk_data...\n",
      "[nltk_data]   Package stopwords is already up-to-date!\n",
      "[nltk_data] Downloading package wordnet to /Users/artem/nltk_data...\n",
      "[nltk_data]   Package wordnet is already up-to-date!\n"
     ]
    }
   ],
   "source": [
    "nltk.download('stopwords')\n",
    "nltk.download('wordnet')\n",
    "\n",
    "stop_words = set(stopwords.words(\"english\")) \n",
    "lemmatizer = WordNetLemmatizer()\n",
    "\n",
    "def clean_text(text):\n",
    "    text = re.sub(r'<[^>]+>',' ',text, re.UNICODE)\n",
    "    text = re.sub(r'[^\\w\\s]','',text, re.UNICODE)\n",
    "    text = text.lower()\n",
    "    text = [lemmatizer.lemmatize(token) for token in text.split(\" \")]\n",
    "    text = [lemmatizer.lemmatize(token, \"v\") for token in text]\n",
    "    text = [word for word in text if not word in stop_words]\n",
    "    text = \" \".join(text)\n",
    "    return text\n",
    "\n",
    "df_train['Processed_Reviews'] = df_train.review.apply(lambda x: clean_text(x))\n",
    "df_test['Processed_Reviews'] = df_test.review.apply(lambda x: clean_text(x))\n"
   ]
  },
  {
   "cell_type": "code",
   "execution_count": 82,
   "id": "64ab77bf",
   "metadata": {},
   "outputs": [
    {
     "data": {
      "text/html": [
       "<div>\n",
       "<style scoped>\n",
       "    .dataframe tbody tr th:only-of-type {\n",
       "        vertical-align: middle;\n",
       "    }\n",
       "\n",
       "    .dataframe tbody tr th {\n",
       "        vertical-align: top;\n",
       "    }\n",
       "\n",
       "    .dataframe thead th {\n",
       "        text-align: right;\n",
       "    }\n",
       "</style>\n",
       "<table border=\"1\" class=\"dataframe\">\n",
       "  <thead>\n",
       "    <tr style=\"text-align: right;\">\n",
       "      <th></th>\n",
       "      <th>review</th>\n",
       "      <th>sentiment</th>\n",
       "      <th>rating</th>\n",
       "      <th>Processed_Reviews</th>\n",
       "      <th>encoded</th>\n",
       "    </tr>\n",
       "  </thead>\n",
       "  <tbody>\n",
       "    <tr>\n",
       "      <th>0</th>\n",
       "      <td>For a movie that gets no respect there sure ar...</td>\n",
       "      <td>1</td>\n",
       "      <td>9</td>\n",
       "      <td>movie get respect sure lot memorable quote lis...</td>\n",
       "      <td>[1.0, 7.0, 858.0, 168.0, 65.0, 813.0, 1652.0, ...</td>\n",
       "    </tr>\n",
       "    <tr>\n",
       "      <th>1</th>\n",
       "      <td>Bizarre horror movie filled with famous faces ...</td>\n",
       "      <td>1</td>\n",
       "      <td>8</td>\n",
       "      <td>bizarre horror movie fill famous face steal cr...</td>\n",
       "      <td>[1015.0, 106.0, 1.0, 568.0, 671.0, 236.0, 556....</td>\n",
       "    </tr>\n",
       "    <tr>\n",
       "      <th>2</th>\n",
       "      <td>A solid, if unremarkable film. Matthau, as Ein...</td>\n",
       "      <td>1</td>\n",
       "      <td>7</td>\n",
       "      <td>solid unremarkable film matthau einstein wa wo...</td>\n",
       "      <td>[988.0, 9369.0, 2.0, 2920.0, 5434.0, 0.0, 294....</td>\n",
       "    </tr>\n",
       "    <tr>\n",
       "      <th>3</th>\n",
       "      <td>It's a strange feeling to sit alone in a theat...</td>\n",
       "      <td>1</td>\n",
       "      <td>8</td>\n",
       "      <td>strange feel sit alone theater occupy parent r...</td>\n",
       "      <td>[546.0, 60.0, 307.0, 536.0, 502.0, 4219.0, 648...</td>\n",
       "    </tr>\n",
       "    <tr>\n",
       "      <th>4</th>\n",
       "      <td>You probably all already know this by now, but...</td>\n",
       "      <td>1</td>\n",
       "      <td>10</td>\n",
       "      <td>probably already know 5 additional episode nev...</td>\n",
       "      <td>[142.0, 377.0, 24.0, 622.0, 4624.0, 181.0, 47....</td>\n",
       "    </tr>\n",
       "  </tbody>\n",
       "</table>\n",
       "</div>"
      ],
      "text/plain": [
       "                                              review sentiment rating  \\\n",
       "0  For a movie that gets no respect there sure ar...         1      9   \n",
       "1  Bizarre horror movie filled with famous faces ...         1      8   \n",
       "2  A solid, if unremarkable film. Matthau, as Ein...         1      7   \n",
       "3  It's a strange feeling to sit alone in a theat...         1      8   \n",
       "4  You probably all already know this by now, but...         1     10   \n",
       "\n",
       "                                   Processed_Reviews  \\\n",
       "0  movie get respect sure lot memorable quote lis...   \n",
       "1  bizarre horror movie fill famous face steal cr...   \n",
       "2  solid unremarkable film matthau einstein wa wo...   \n",
       "3  strange feel sit alone theater occupy parent r...   \n",
       "4  probably already know 5 additional episode nev...   \n",
       "\n",
       "                                             encoded  \n",
       "0  [1.0, 7.0, 858.0, 168.0, 65.0, 813.0, 1652.0, ...  \n",
       "1  [1015.0, 106.0, 1.0, 568.0, 671.0, 236.0, 556....  \n",
       "2  [988.0, 9369.0, 2.0, 2920.0, 5434.0, 0.0, 294....  \n",
       "3  [546.0, 60.0, 307.0, 536.0, 502.0, 4219.0, 648...  \n",
       "4  [142.0, 377.0, 24.0, 622.0, 4624.0, 181.0, 47....  "
      ]
     },
     "execution_count": 82,
     "metadata": {},
     "output_type": "execute_result"
    }
   ],
   "source": [
    "df_train.head()"
   ]
  },
  {
   "cell_type": "code",
   "execution_count": 83,
   "id": "bae1cdd2",
   "metadata": {},
   "outputs": [
    {
     "data": {
      "text/html": [
       "<div>\n",
       "<style scoped>\n",
       "    .dataframe tbody tr th:only-of-type {\n",
       "        vertical-align: middle;\n",
       "    }\n",
       "\n",
       "    .dataframe tbody tr th {\n",
       "        vertical-align: top;\n",
       "    }\n",
       "\n",
       "    .dataframe thead th {\n",
       "        text-align: right;\n",
       "    }\n",
       "</style>\n",
       "<table border=\"1\" class=\"dataframe\">\n",
       "  <thead>\n",
       "    <tr style=\"text-align: right;\">\n",
       "      <th></th>\n",
       "      <th>review</th>\n",
       "      <th>sentiment</th>\n",
       "      <th>rating</th>\n",
       "      <th>Processed_Reviews</th>\n",
       "    </tr>\n",
       "  </thead>\n",
       "  <tbody>\n",
       "    <tr>\n",
       "      <th>0</th>\n",
       "      <td>Based on an actual story, John Boorman shows t...</td>\n",
       "      <td>1</td>\n",
       "      <td>9</td>\n",
       "      <td>base actual story john boorman show struggle a...</td>\n",
       "    </tr>\n",
       "    <tr>\n",
       "      <th>1</th>\n",
       "      <td>This is a gem. As a Film Four production - the...</td>\n",
       "      <td>1</td>\n",
       "      <td>9</td>\n",
       "      <td>gem film four production  anticipate quality w...</td>\n",
       "    </tr>\n",
       "    <tr>\n",
       "      <th>2</th>\n",
       "      <td>I really like this show. It has drama, romance...</td>\n",
       "      <td>1</td>\n",
       "      <td>9</td>\n",
       "      <td>really like show ha drama romance comedy roll ...</td>\n",
       "    </tr>\n",
       "    <tr>\n",
       "      <th>3</th>\n",
       "      <td>This is the best 3-D experience Disney has at ...</td>\n",
       "      <td>1</td>\n",
       "      <td>10</td>\n",
       "      <td>best 3d experience disney ha themeparks certai...</td>\n",
       "    </tr>\n",
       "    <tr>\n",
       "      <th>4</th>\n",
       "      <td>Of the Korean movies I've seen, only three had...</td>\n",
       "      <td>1</td>\n",
       "      <td>10</td>\n",
       "      <td>korean movie ive see three really stick first ...</td>\n",
       "    </tr>\n",
       "  </tbody>\n",
       "</table>\n",
       "</div>"
      ],
      "text/plain": [
       "                                              review sentiment rating  \\\n",
       "0  Based on an actual story, John Boorman shows t...         1      9   \n",
       "1  This is a gem. As a Film Four production - the...         1      9   \n",
       "2  I really like this show. It has drama, romance...         1      9   \n",
       "3  This is the best 3-D experience Disney has at ...         1     10   \n",
       "4  Of the Korean movies I've seen, only three had...         1     10   \n",
       "\n",
       "                                   Processed_Reviews  \n",
       "0  base actual story john boorman show struggle a...  \n",
       "1  gem film four production  anticipate quality w...  \n",
       "2  really like show ha drama romance comedy roll ...  \n",
       "3  best 3d experience disney ha themeparks certai...  \n",
       "4  korean movie ive see three really stick first ...  "
      ]
     },
     "execution_count": 83,
     "metadata": {},
     "output_type": "execute_result"
    }
   ],
   "source": [
    "df_test.head()"
   ]
  },
  {
   "cell_type": "code",
   "execution_count": 54,
   "id": "d630db3e",
   "metadata": {},
   "outputs": [],
   "source": [
    "# embedding_vector_size = 256\n",
    "# w2v = Word2Vec(\n",
    "#     sentences = df_train['Processed_Reviews'].str.split(),\n",
    "#     vector_size = embedding_vector_size,\n",
    "#     min_count=10, window=3, workers=4)\n",
    "# w2v.save('w2vmodel.pth')"
   ]
  },
  {
   "cell_type": "code",
   "execution_count": 58,
   "id": "8d318840",
   "metadata": {},
   "outputs": [],
   "source": [
    "w2v = Word2Vec.load('w2vmodel.pth')\n",
    "w2v.build_vocab([[\"UNK\"]], update=True)\n",
    "\n",
    "unk_vector = w2v.wv.vectors.mean(axis=0)\n",
    "w2v.wv[\"UNK\"] = unk_vector"
   ]
  },
  {
   "cell_type": "code",
   "execution_count": 59,
   "id": "0a960f42",
   "metadata": {},
   "outputs": [
    {
     "data": {
      "text/plain": [
       "('awful', 0.6712296009063721)"
      ]
     },
     "execution_count": 59,
     "metadata": {},
     "output_type": "execute_result"
    }
   ],
   "source": [
    "w2v.wv.most_similar(positive=['bad'])[0]"
   ]
  },
  {
   "cell_type": "code",
   "execution_count": 60,
   "id": "1b87352a",
   "metadata": {},
   "outputs": [
    {
     "data": {
      "text/plain": [
       "(18749, 256)"
      ]
     },
     "execution_count": 60,
     "metadata": {},
     "output_type": "execute_result"
    }
   ],
   "source": [
    "w2v.wv.vectors.shape"
   ]
  },
  {
   "cell_type": "code",
   "execution_count": 64,
   "id": "ccefe187",
   "metadata": {},
   "outputs": [],
   "source": [
    "word2idx = {word: idx for idx, word in enumerate(w2v.wv.index_to_key)}"
   ]
  },
  {
   "cell_type": "code",
   "execution_count": 69,
   "id": "c6c21158",
   "metadata": {},
   "outputs": [
    {
     "data": {
      "text/plain": [
       "0"
      ]
     },
     "execution_count": 69,
     "metadata": {},
     "output_type": "execute_result"
    }
   ],
   "source": [
    "word2idx['wa']"
   ]
  },
  {
   "cell_type": "code",
   "execution_count": 96,
   "id": "e4a5fd2e",
   "metadata": {},
   "outputs": [],
   "source": [
    "def encode(sen):\n",
    "    return np.array([word2idx[word] if word in word2idx else word2idx['UNK'] for word in sen.split()],dtype='int')\n",
    "def add_pads(nested):\n",
    "    max_length = max(len(x) for x in nested)\n",
    "    padded_array = np.array([np.pad(x, (0, max_length - len(x)), mode='constant') for x in nested])\n",
    "    return padded_array"
   ]
  },
  {
   "cell_type": "code",
   "execution_count": 97,
   "id": "5e6c9588",
   "metadata": {},
   "outputs": [],
   "source": [
    "df_train['encoded'] = df_train.Processed_Reviews.apply(lambda x: encode(x))\n",
    "df_test['encoded'] = df_test.Processed_Reviews.apply(lambda x: encode(x))"
   ]
  },
  {
   "cell_type": "code",
   "execution_count": 98,
   "id": "6b94dada",
   "metadata": {},
   "outputs": [
    {
     "data": {
      "text/html": [
       "<div>\n",
       "<style scoped>\n",
       "    .dataframe tbody tr th:only-of-type {\n",
       "        vertical-align: middle;\n",
       "    }\n",
       "\n",
       "    .dataframe tbody tr th {\n",
       "        vertical-align: top;\n",
       "    }\n",
       "\n",
       "    .dataframe thead th {\n",
       "        text-align: right;\n",
       "    }\n",
       "</style>\n",
       "<table border=\"1\" class=\"dataframe\">\n",
       "  <thead>\n",
       "    <tr style=\"text-align: right;\">\n",
       "      <th></th>\n",
       "      <th>review</th>\n",
       "      <th>sentiment</th>\n",
       "      <th>rating</th>\n",
       "      <th>Processed_Reviews</th>\n",
       "      <th>encoded</th>\n",
       "    </tr>\n",
       "  </thead>\n",
       "  <tbody>\n",
       "    <tr>\n",
       "      <th>0</th>\n",
       "      <td>For a movie that gets no respect there sure ar...</td>\n",
       "      <td>1</td>\n",
       "      <td>9</td>\n",
       "      <td>movie get respect sure lot memorable quote lis...</td>\n",
       "      <td>[1, 7, 858, 168, 65, 813, 1652, 721, 1233, 601...</td>\n",
       "    </tr>\n",
       "    <tr>\n",
       "      <th>1</th>\n",
       "      <td>Bizarre horror movie filled with famous faces ...</td>\n",
       "      <td>1</td>\n",
       "      <td>8</td>\n",
       "      <td>bizarre horror movie fill famous face steal cr...</td>\n",
       "      <td>[1015, 106, 1, 568, 671, 236, 556, 9036, 1650,...</td>\n",
       "    </tr>\n",
       "    <tr>\n",
       "      <th>2</th>\n",
       "      <td>A solid, if unremarkable film. Matthau, as Ein...</td>\n",
       "      <td>1</td>\n",
       "      <td>7</td>\n",
       "      <td>solid unremarkable film matthau einstein wa wo...</td>\n",
       "      <td>[988, 9369, 2, 2920, 5434, 0, 294, 355, 62, 41...</td>\n",
       "    </tr>\n",
       "    <tr>\n",
       "      <th>3</th>\n",
       "      <td>It's a strange feeling to sit alone in a theat...</td>\n",
       "      <td>1</td>\n",
       "      <td>8</td>\n",
       "      <td>strange feel sit alone theater occupy parent r...</td>\n",
       "      <td>[546, 60, 307, 536, 502, 4219, 648, 17639, 144...</td>\n",
       "    </tr>\n",
       "    <tr>\n",
       "      <th>4</th>\n",
       "      <td>You probably all already know this by now, but...</td>\n",
       "      <td>1</td>\n",
       "      <td>10</td>\n",
       "      <td>probably already know 5 additional episode nev...</td>\n",
       "      <td>[142, 377, 24, 622, 4624, 181, 47, 700, 229, 1...</td>\n",
       "    </tr>\n",
       "  </tbody>\n",
       "</table>\n",
       "</div>"
      ],
      "text/plain": [
       "                                              review sentiment rating  \\\n",
       "0  For a movie that gets no respect there sure ar...         1      9   \n",
       "1  Bizarre horror movie filled with famous faces ...         1      8   \n",
       "2  A solid, if unremarkable film. Matthau, as Ein...         1      7   \n",
       "3  It's a strange feeling to sit alone in a theat...         1      8   \n",
       "4  You probably all already know this by now, but...         1     10   \n",
       "\n",
       "                                   Processed_Reviews  \\\n",
       "0  movie get respect sure lot memorable quote lis...   \n",
       "1  bizarre horror movie fill famous face steal cr...   \n",
       "2  solid unremarkable film matthau einstein wa wo...   \n",
       "3  strange feel sit alone theater occupy parent r...   \n",
       "4  probably already know 5 additional episode nev...   \n",
       "\n",
       "                                             encoded  \n",
       "0  [1, 7, 858, 168, 65, 813, 1652, 721, 1233, 601...  \n",
       "1  [1015, 106, 1, 568, 671, 236, 556, 9036, 1650,...  \n",
       "2  [988, 9369, 2, 2920, 5434, 0, 294, 355, 62, 41...  \n",
       "3  [546, 60, 307, 536, 502, 4219, 648, 17639, 144...  \n",
       "4  [142, 377, 24, 622, 4624, 181, 47, 700, 229, 1...  "
      ]
     },
     "execution_count": 98,
     "metadata": {},
     "output_type": "execute_result"
    }
   ],
   "source": [
    "df_train.head()"
   ]
  },
  {
   "cell_type": "code",
   "execution_count": 99,
   "id": "4aaa10de",
   "metadata": {},
   "outputs": [
    {
     "data": {
      "text/html": [
       "<div>\n",
       "<style scoped>\n",
       "    .dataframe tbody tr th:only-of-type {\n",
       "        vertical-align: middle;\n",
       "    }\n",
       "\n",
       "    .dataframe tbody tr th {\n",
       "        vertical-align: top;\n",
       "    }\n",
       "\n",
       "    .dataframe thead th {\n",
       "        text-align: right;\n",
       "    }\n",
       "</style>\n",
       "<table border=\"1\" class=\"dataframe\">\n",
       "  <thead>\n",
       "    <tr style=\"text-align: right;\">\n",
       "      <th></th>\n",
       "      <th>review</th>\n",
       "      <th>sentiment</th>\n",
       "      <th>rating</th>\n",
       "      <th>Processed_Reviews</th>\n",
       "      <th>encoded</th>\n",
       "    </tr>\n",
       "  </thead>\n",
       "  <tbody>\n",
       "    <tr>\n",
       "      <th>0</th>\n",
       "      <td>Based on an actual story, John Boorman shows t...</td>\n",
       "      <td>1</td>\n",
       "      <td>9</td>\n",
       "      <td>base actual story john boorman show struggle a...</td>\n",
       "      <td>[306, 626, 17, 201, 14930, 19, 725, 184, 822, ...</td>\n",
       "    </tr>\n",
       "    <tr>\n",
       "      <th>1</th>\n",
       "      <td>This is a gem. As a Film Four production - the...</td>\n",
       "      <td>1</td>\n",
       "      <td>9</td>\n",
       "      <td>gem film four production  anticipate quality w...</td>\n",
       "      <td>[1233, 2, 586, 266, 3677, 364, 0, 845, 497, 94...</td>\n",
       "    </tr>\n",
       "    <tr>\n",
       "      <th>2</th>\n",
       "      <td>I really like this show. It has drama, romance...</td>\n",
       "      <td>1</td>\n",
       "      <td>9</td>\n",
       "      <td>really like show ha drama romance comedy roll ...</td>\n",
       "      <td>[18, 5, 19, 8, 375, 743, 117, 866, 3, 6058, 57...</td>\n",
       "    </tr>\n",
       "    <tr>\n",
       "      <th>3</th>\n",
       "      <td>This is the best 3-D experience Disney has at ...</td>\n",
       "      <td>1</td>\n",
       "      <td>10</td>\n",
       "      <td>best 3d experience disney ha themeparks certai...</td>\n",
       "      <td>[53, 3415, 369, 718, 8, 18748, 330, 59, 115, 2...</td>\n",
       "    </tr>\n",
       "    <tr>\n",
       "      <th>4</th>\n",
       "      <td>Of the Korean movies I've seen, only three had...</td>\n",
       "      <td>1</td>\n",
       "      <td>10</td>\n",
       "      <td>korean movie ive see three really stick first ...</td>\n",
       "      <td>[2809, 1, 163, 6, 196, 18, 514, 29, 223, 106, ...</td>\n",
       "    </tr>\n",
       "  </tbody>\n",
       "</table>\n",
       "</div>"
      ],
      "text/plain": [
       "                                              review sentiment rating  \\\n",
       "0  Based on an actual story, John Boorman shows t...         1      9   \n",
       "1  This is a gem. As a Film Four production - the...         1      9   \n",
       "2  I really like this show. It has drama, romance...         1      9   \n",
       "3  This is the best 3-D experience Disney has at ...         1     10   \n",
       "4  Of the Korean movies I've seen, only three had...         1     10   \n",
       "\n",
       "                                   Processed_Reviews  \\\n",
       "0  base actual story john boorman show struggle a...   \n",
       "1  gem film four production  anticipate quality w...   \n",
       "2  really like show ha drama romance comedy roll ...   \n",
       "3  best 3d experience disney ha themeparks certai...   \n",
       "4  korean movie ive see three really stick first ...   \n",
       "\n",
       "                                             encoded  \n",
       "0  [306, 626, 17, 201, 14930, 19, 725, 184, 822, ...  \n",
       "1  [1233, 2, 586, 266, 3677, 364, 0, 845, 497, 94...  \n",
       "2  [18, 5, 19, 8, 375, 743, 117, 866, 3, 6058, 57...  \n",
       "3  [53, 3415, 369, 718, 8, 18748, 330, 59, 115, 2...  \n",
       "4  [2809, 1, 163, 6, 196, 18, 514, 29, 223, 106, ...  "
      ]
     },
     "execution_count": 99,
     "metadata": {},
     "output_type": "execute_result"
    }
   ],
   "source": [
    "df_test.head()"
   ]
  },
  {
   "cell_type": "code",
   "execution_count": 100,
   "id": "076b6358",
   "metadata": {},
   "outputs": [],
   "source": [
    "nested = df_train['encoded'].to_numpy()\n",
    "nested_test = df_test['encoded'].to_numpy()"
   ]
  },
  {
   "cell_type": "code",
   "execution_count": 106,
   "id": "bddeb5f4",
   "metadata": {},
   "outputs": [],
   "source": [
    "X = torch.tensor(add_pads(nested),dtype=torch.long)\n",
    "y = torch.FloatTensor(df_train['sentiment'])\n",
    "X_test = torch.tensor(add_pads(nested_test),dtype=torch.long)\n",
    "y_test = torch.FloatTensor(df_test['sentiment'])\n"
   ]
  },
  {
   "cell_type": "code",
   "execution_count": 107,
   "id": "3c94b3cb",
   "metadata": {},
   "outputs": [
    {
     "data": {
      "text/plain": [
       "[('film', 0.8062955737113953),\n",
       " ('flick', 0.6898990273475647),\n",
       " ('movie.', 0.637246310710907),\n",
       " ('sequel', 0.6307896971702576),\n",
       " ('movies.', 0.6298549175262451),\n",
       " ('movie,', 0.5976845622062683),\n",
       " ('product', 0.590249240398407),\n",
       " ('anyway', 0.5744838118553162),\n",
       " ('however', 0.5639763474464417),\n",
       " ('rubbish', 0.5577197670936584)]"
      ]
     },
     "execution_count": 107,
     "metadata": {},
     "output_type": "execute_result"
    }
   ],
   "source": [
    "w2v.wv.most_similar(positive=['movie'])"
   ]
  },
  {
   "cell_type": "code",
   "execution_count": 140,
   "id": "d6f6e0f1",
   "metadata": {},
   "outputs": [
    {
     "data": {
      "text/plain": [
       "'cpu'"
      ]
     },
     "execution_count": 140,
     "metadata": {},
     "output_type": "execute_result"
    }
   ],
   "source": [
    "device = \"cuda\" if torch.cuda.is_available() else 'cpu'\n",
    "device"
   ]
  },
  {
   "cell_type": "code",
   "execution_count": 141,
   "id": "226b673b",
   "metadata": {},
   "outputs": [],
   "source": [
    "from torch.utils.data import Dataset,DataLoader\n",
    "\n",
    "class ImdbDataset(Dataset):\n",
    "    def __init__(self,X,y):\n",
    "        self.X = X.to(device)\n",
    "        self.y = y.to(device)\n",
    "        self.n_samples = self.X.shape[0]\n",
    "\n",
    "    def __len__(self):\n",
    "        return self.n_samples\n",
    "\n",
    "    def __getitem__(self, idx):\n",
    "        return self.X[idx], self.y[idx]"
   ]
  },
  {
   "cell_type": "code",
   "execution_count": 142,
   "id": "5defd131",
   "metadata": {},
   "outputs": [],
   "source": [
    "dataset = ImdbDataset(X,y)\n",
    "test_dataset = ImdbDataset(X_test,y_test)"
   ]
  },
  {
   "cell_type": "code",
   "execution_count": 143,
   "id": "060d2d77",
   "metadata": {},
   "outputs": [],
   "source": [
    "dataloader = DataLoader(dataset=dataset, batch_size=256, shuffle=True)\n",
    "test_dataloader = DataLoader(dataset=test_dataset, batch_size=256)"
   ]
  },
  {
   "cell_type": "code",
   "execution_count": 144,
   "id": "b3d3edcc",
   "metadata": {},
   "outputs": [],
   "source": [
    "w2v.vector_size\n",
    "pretrained_embeddings = torch.FloatTensor(w2v.wv.vectors)"
   ]
  },
  {
   "cell_type": "code",
   "execution_count": 145,
   "id": "86f1381d",
   "metadata": {},
   "outputs": [],
   "source": [
    "class CNNModel(nn.Module):\n",
    "    def __init__(self,embedding_matrix, hidden_size):\n",
    "        super().__init__()\n",
    "        self.embeddings = nn.Embedding.from_pretrained(embedding_matrix)\n",
    "        self.cnn = nn.Sequential(\n",
    "            nn.Conv1d(embedding_matrix.shape[1], hidden_size, kernel_size=3, padding=1, stride=2),\n",
    "            nn.BatchNorm1d(hidden_size),\n",
    "            nn.ReLU(),\n",
    "            nn.Conv1d(hidden_size,hidden_size,kernel_size=3,padding=1, stride=2),\n",
    "            nn.BatchNorm1d(hidden_size),\n",
    "            nn.ReLU(),\n",
    "            nn.AdaptiveAvgPool1d(1),\n",
    "            nn.Flatten()\n",
    "        )\n",
    "        self.clf = nn.Sequential(\n",
    "            nn.Linear(hidden_size,20),\n",
    "            nn.Linear(20,1),\n",
    "            nn.Sigmoid()\n",
    "        )\n",
    "\n",
    "    def forward(self, x):\n",
    "        x = self.embeddings(x)\n",
    "        x = x.permute(0,2,1)\n",
    "        x = self.cnn(x)\n",
    "        predictions = self.clf(x)\n",
    "        return predictions"
   ]
  },
  {
   "cell_type": "code",
   "execution_count": 146,
   "id": "340c9cb9",
   "metadata": {},
   "outputs": [],
   "source": [
    "model = CNNModel(pretrained_embeddings,50).to(device)\n",
    "loss = nn.BCELoss()\n",
    "op = optim.Adam(model.parameters(), lr=1e-2)\n",
    "n_epoch = 10"
   ]
  },
  {
   "cell_type": "code",
   "execution_count": 137,
   "id": "8eaf9375",
   "metadata": {},
   "outputs": [],
   "source": [
    "from tqdm.notebook import trange, tqdm\n",
    "def training(model, loss, op, num_epochs, train_dataloader, test_dataloader, max_grad_norm=2):\n",
    "  for epoch in trange(num_epochs):\n",
    "      model.train()\n",
    "      num_iter=0\n",
    "      for X,y in tqdm(train_dataloader,total=len(train_dataloader)):\n",
    "        op.zero_grad()\n",
    "        y.unsqueeze_(1)\n",
    "        y_pred = model.forward(X)\n",
    "        curr_loss = loss(y_pred,y)\n",
    "        curr_loss.backward()\n",
    "        if max_grad_norm is not None:\n",
    "           torch.nn.utils.clip_grad_norm_(model.parameters(), max_grad_norm)\n",
    "        op.step()\n",
    "        num_iter+=1\n",
    "      valid_loss = 0\n",
    "      valid_acc = 0\n",
    "      num_iter = 0\n",
    "      model.eval()\n",
    "      with torch.no_grad():\n",
    "          correct = 0\n",
    "          num_obj = 0\n",
    "          for X,y in tqdm(test_dataloader,total=len(test_dataloader)):            \n",
    "            y.unsqueeze_(1)\n",
    "            y_pred = model.forward(X)\n",
    "            valid_loss += loss(y_pred,y)\n",
    "            correct += (y == y_pred.argmax(-1).float().mean()).sum()\n",
    "            num_obj = X.shape[0]\n",
    "            num_iter+=1\n",
    "      print(f\"Valid loss: {valid_loss/num_iter}, accuracy: {correct/num_obj}\")\n",
    "\n"
   ]
  },
  {
   "cell_type": "code",
   "execution_count": 138,
   "id": "ee62e753",
   "metadata": {},
   "outputs": [
    {
     "data": {
      "application/vnd.jupyter.widget-view+json": {
       "model_id": "aa608de7021641f1b3b740f1b3727126",
       "version_major": 2,
       "version_minor": 0
      },
      "text/plain": [
       "  0%|          | 0/1 [00:00<?, ?it/s]"
      ]
     },
     "metadata": {},
     "output_type": "display_data"
    },
    {
     "data": {
      "application/vnd.jupyter.widget-view+json": {
       "model_id": "da81fdffc5824f058c350f1116e1b72b",
       "version_major": 2,
       "version_minor": 0
      },
      "text/plain": [
       "  0%|          | 0/98 [00:00<?, ?it/s]"
      ]
     },
     "metadata": {},
     "output_type": "display_data"
    },
    {
     "data": {
      "application/vnd.jupyter.widget-view+json": {
       "model_id": "556358c61e044e75b6aae64addcec0b6",
       "version_major": 2,
       "version_minor": 0
      },
      "text/plain": [
       "  0%|          | 0/98 [00:00<?, ?it/s]"
      ]
     },
     "metadata": {},
     "output_type": "display_data"
    },
    {
     "name": "stdout",
     "output_type": "stream",
     "text": [
      "Valid loss: 0.4120892584323883, accuracy: 74.4047622680664\n"
     ]
    }
   ],
   "source": [
    "training(model,loss,op,n_epoch,dataloader,test_dataloader)"
   ]
  },
  {
   "cell_type": "code",
   "execution_count": null,
   "id": "dafd2790",
   "metadata": {},
   "outputs": [],
   "source": []
  }
 ],
 "metadata": {
  "kernelspec": {
   "display_name": "DL",
   "language": "python",
   "name": "python3"
  },
  "language_info": {
   "codemirror_mode": {
    "name": "ipython",
    "version": 3
   },
   "file_extension": ".py",
   "mimetype": "text/x-python",
   "name": "python",
   "nbconvert_exporter": "python",
   "pygments_lexer": "ipython3",
   "version": "3.10.9"
  }
 },
 "nbformat": 4,
 "nbformat_minor": 5
}
